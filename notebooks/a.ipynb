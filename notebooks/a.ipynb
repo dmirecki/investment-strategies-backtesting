{
 "cells": [
  {
   "cell_type": "code",
   "execution_count": null,
   "outputs": [],
   "source": [
    "from pathlib import Path\n",
    "from typing import Tuple, List, Optional\n",
    "\n",
    "import numpy as np\n",
    "import pandas as pd\n",
    "import plotly.express as px\n",
    "from dateutil.utils import today\n",
    "from pandas.tseries.offsets import MonthEnd\n",
    "from tqdm.auto import tqdm\n",
    "\n",
    "data_dir = Path('../data')"
   ],
   "metadata": {
    "collapsed": false,
    "pycharm": {
     "name": "#%%\n"
    }
   }
  },
  {
   "cell_type": "markdown",
   "source": [
    "## Inflation data\n",
    "\n",
    "Reading Polish inflation rate data."
   ],
   "metadata": {
    "collapsed": false,
    "pycharm": {
     "name": "#%% md\n"
    }
   }
  },
  {
   "cell_type": "code",
   "execution_count": null,
   "outputs": [],
   "source": [
    "inflation = pd.read_csv(\n",
    "    '../data/Miesięczne_wskaźniki_cen_towarów_i_usług_konsumpcyjnych_od_1982_roku.csv',\n",
    "    sep=';',\n",
    "    decimal=',',\n",
    "    usecols=['Sposób prezentacji', 'Rok', 'Miesiąc', 'Wartość']\n",
    ")\n",
    "\n",
    "# Get only monthly inflation rate\n",
    "inflation = inflation[inflation['Sposób prezentacji'] == 'Poprzedni miesiąc = 100']\n",
    "\n",
    "# Parsing date\n",
    "inflation['date'] = pd.to_datetime(\n",
    "    inflation['Rok'].astype(str) + '-' + inflation['Miesiąc'].astype(str).str.zfill(2),\n",
    "    format='%Y-%m'\n",
    ")\n",
    "\n",
    "# Set date as the last day of month\n",
    "inflation['date'] = inflation['date'] + MonthEnd(0)\n",
    "\n",
    "inflation = inflation \\\n",
    "    .sort_values('date') \\\n",
    "    .rename({'Wartość': 'inflation_rate'}, axis=1) \\\n",
    "    .set_index('date') \\\n",
    "    ['inflation_rate'].squeeze()\n",
    "\n",
    "inflation = inflation / 100 - 1\n",
    "\n",
    "inflation.tail()"
   ],
   "metadata": {
    "collapsed": false,
    "pycharm": {
     "name": "#%%\n"
    }
   }
  },
  {
   "cell_type": "code",
   "execution_count": null,
   "outputs": [],
   "source": [
    "px.line(\n",
    "    (inflation + 1).cumprod(),\n",
    "    labels=dict(value=\"%\"),\n",
    "    title='Cumulative inflation in Poland'\n",
    ")"
   ],
   "metadata": {
    "collapsed": false,
    "pycharm": {
     "name": "#%%\n"
    }
   }
  },
  {
   "cell_type": "markdown",
   "source": [
    "## Exchange rates"
   ],
   "metadata": {
    "collapsed": false
   }
  },
  {
   "cell_type": "code",
   "execution_count": null,
   "outputs": [],
   "source": [
    "exchange_rates = pd.read_csv(\n",
    "    data_dir / 'Dane historyczne dla USD_PLN.csv',\n",
    "    usecols=['Data', 'Ostatnio'],\n",
    "    parse_dates=['Data'],\n",
    "    decimal=','\n",
    ")\n",
    "\n",
    "exchange_rates = exchange_rates.rename(columns={\n",
    "    'Data': 'date',\n",
    "    'Ostatnio': 'USD2PLN'\n",
    "})"
   ],
   "metadata": {
    "collapsed": false,
    "pycharm": {
     "name": "#%%\n"
    }
   }
  },
  {
   "cell_type": "code",
   "execution_count": null,
   "outputs": [],
   "source": [
    "import dateparser\n",
    "\n",
    "exchange_rates['date'] = exchange_rates['date'] \\\n",
    "    .map(lambda d: dateparser.parse(d, languages=['pl'], settings={'DATE_ORDER': 'MYD'}))\n",
    "\n",
    "exchange_rates['date'] = exchange_rates['date'] + MonthEnd(0)  #TODO or MonthEnd(0)???\n",
    "exchange_rates = exchange_rates \\\n",
    "    .set_index('date') \\\n",
    "    .squeeze() \\\n",
    "    .sort_index()\n",
    "\n",
    "exchange_rate_monthly_return_rates = exchange_rates \\\n",
    "    .rolling(window=2) \\\n",
    "    .apply(lambda x: x[1] / x[0] - 1) \\\n",
    "    .dropna()\n",
    "\n",
    "exchange_rates.tail()"
   ],
   "metadata": {
    "collapsed": false,
    "pycharm": {
     "name": "#%%\n"
    }
   }
  },
  {
   "cell_type": "code",
   "execution_count": null,
   "outputs": [],
   "source": [
    "px.line(\n",
    "    exchange_rates,\n",
    "    labels=dict(value=\"USD price (PLN)\"),\n",
    "    title='Exchange rate USD -> PLN'\n",
    ")"
   ],
   "metadata": {
    "collapsed": false,
    "pycharm": {
     "name": "#%%\n"
    }
   }
  },
  {
   "cell_type": "markdown",
   "source": [
    "## Retail treasury bonds\n",
    "\n",
    "In Polish: detaliczne obligacje skarbowe.\n",
    "\n",
    "### 10-years bonds"
   ],
   "metadata": {
    "collapsed": false
   }
  },
  {
   "cell_type": "code",
   "execution_count": null,
   "outputs": [],
   "source": [
    "edo = pd.read_excel(\n",
    "    data_dir / 'Dane_dotyczace_obligacji_detalicznych.xls',\n",
    "    sheet_name='EDO',\n",
    "    parse_dates=['Początek sprzedaży'],\n",
    "    index_col='Początek sprzedaży',\n",
    ").rename(columns={\n",
    "    'Koniec sprzedaży': 'date',\n",
    "    'Marża': 'margin'\n",
    "})[['margin']] \\\n",
    "    .squeeze()[1:]\n",
    "\n",
    "edo.index = edo.index + MonthEnd(0)\n",
    "\n",
    "# original data contains yearly return rate, here it's turned into monthly return rate\n",
    "edo = np.power(edo + 1, 1/12) - 1\n",
    "\n",
    "# return rate consists of margin and inflation rate\n",
    "edo = edo + np.maximum(0, inflation)\n",
    "\n",
    "edo.name = 'bonds_10_years'"
   ],
   "metadata": {
    "collapsed": false,
    "pycharm": {
     "name": "#%%\n"
    }
   }
  },
  {
   "cell_type": "markdown",
   "source": [
    "### 4-years bonds"
   ],
   "metadata": {
    "collapsed": false,
    "pycharm": {
     "name": "#%% md\n"
    }
   }
  },
  {
   "cell_type": "code",
   "execution_count": null,
   "outputs": [],
   "source": [
    "coi = pd.read_excel(\n",
    "    data_dir / 'Dane_dotyczace_obligacji_detalicznych.xls',\n",
    "    sheet_name='COI',\n",
    "    parse_dates=['Początek sprzedaży'],\n",
    "    index_col='Początek sprzedaży',\n",
    ").rename(columns={\n",
    "    'Koniec sprzedaży': 'date',\n",
    "    'Marża': 'margin'\n",
    "})[['margin']] \\\n",
    "    .squeeze()[1:]\n",
    "\n",
    "coi.index = coi.index + MonthEnd(0)\n",
    "\n",
    "# original data contains yearly return rate, here it's turned into monhly return rate\n",
    "coi = np.power(coi + 1, 1/12) - 1\n",
    "\n",
    "# return rate consists of margin and inflation rate\n",
    "coi = coi + np.maximum(0, inflation[coi.index[0]:])\n",
    "\n",
    "coi.name = 'bonds_4_years'\n",
    "\n",
    "coi"
   ],
   "metadata": {
    "collapsed": false,
    "pycharm": {
     "name": "#%%\n"
    }
   }
  },
  {
   "cell_type": "markdown",
   "source": [
    "### \"IR\" bonds"
   ],
   "metadata": {
    "collapsed": false,
    "pycharm": {
     "name": "#%% md\n"
    }
   }
  },
  {
   "cell_type": "code",
   "execution_count": null,
   "outputs": [],
   "source": [
    "ir = pd.read_excel(\n",
    "    data_dir / 'Dane_dotyczace_obligacji_detalicznych.xls',\n",
    "    sheet_name='IR',\n",
    "    parse_dates=['Początek sprzedaży'],\n",
    "    index_col='Początek sprzedaży',\n",
    "    skiprows=1\n",
    ").rename(columns={\n",
    "    'Unnamed: 17': 'bank_rate'\n",
    "})[['bank_rate']] \\\n",
    "    .squeeze()[1:]\n",
    "\n",
    "ir.index = ir.index + MonthEnd(0)\n",
    "\n",
    "# original data contains yearly return rate, here it's turned into monhly return rate\n",
    "ir = np.power(ir + 1, 1/12) - 1\n",
    "\n",
    "ir.name = 'bonds_ir'\n",
    "\n",
    "ir"
   ],
   "metadata": {
    "collapsed": false,
    "pycharm": {
     "name": "#%%\n"
    }
   }
  },
  {
   "cell_type": "markdown",
   "source": [
    "Combining bonds"
   ],
   "metadata": {
    "collapsed": false,
    "pycharm": {
     "name": "#%% md\n"
    }
   }
  },
  {
   "cell_type": "code",
   "execution_count": null,
   "outputs": [],
   "source": [
    "combined = pd.Series(\n",
    "    index=pd.date_range('1995-01-01', today(), freq='M'),\n",
    "    dtype='float64'\n",
    ")\n",
    "\n",
    "combined.update(edo)\n",
    "combined.update(coi[:'2004-10-01'])\n",
    "combined.update(ir)\n",
    "\n",
    "# IR bonds data contains only quarterly return rate, so here holes are filled\n",
    "# with fecent return rate\n",
    "combined = combined.ffill()\n",
    "\n",
    "combined.name = 'bonds_approximated'"
   ],
   "metadata": {
    "collapsed": false,
    "pycharm": {
     "name": "#%%\n"
    }
   }
  },
  {
   "cell_type": "markdown",
   "source": [
    "## Gold"
   ],
   "metadata": {
    "collapsed": false,
    "pycharm": {
     "name": "#%% md\n"
    }
   }
  },
  {
   "cell_type": "code",
   "execution_count": null,
   "outputs": [],
   "source": [
    "gold_prices_monthly = pd.read_excel(\n",
    "    data_dir / 'Prices.xlsx',\n",
    "    sheet_name='Monthly_Full',\n",
    "    skiprows=8,\n",
    "    index_col='Name',\n",
    "    usecols=['Name', 'USD'],\n",
    "    squeeze=True\n",
    ").rename('ounce_in_USD')\n",
    "\n",
    "gold_prices_monthly = gold_prices_monthly.dropna()\n",
    "gold_prices_monthly.index = gold_prices_monthly.index + MonthEnd(0)"
   ],
   "metadata": {
    "collapsed": false,
    "pycharm": {
     "name": "#%%\n"
    }
   }
  },
  {
   "cell_type": "code",
   "execution_count": null,
   "outputs": [],
   "source": [
    "px.line(gold_prices_monthly)"
   ],
   "metadata": {
    "collapsed": false,
    "pycharm": {
     "name": "#%%\n"
    }
   }
  },
  {
   "cell_type": "code",
   "execution_count": null,
   "outputs": [],
   "source": [
    "monthly_return_rates = gold_prices_monthly \\\n",
    "    .rolling(window=2) \\\n",
    "    .apply(lambda x: x[1] / x[0] - 1) \\\n",
    "    .dropna()\n",
    "\n",
    "gold_monthly_return_rates_in_PLN = (monthly_return_rates + 1) * (exchange_rate_monthly_return_rates + 1) - 1\n",
    "gold_monthly_return_rates_in_PLN.name = 'gold_PLN'\n",
    "\n",
    "px.line(monthly_return_rates)"
   ],
   "metadata": {
    "collapsed": false,
    "pycharm": {
     "name": "#%%\n"
    }
   }
  },
  {
   "cell_type": "markdown",
   "source": [
    "### MSCI World"
   ],
   "metadata": {
    "collapsed": false,
    "pycharm": {
     "name": "#%% md\n"
    }
   }
  },
  {
   "cell_type": "code",
   "execution_count": null,
   "outputs": [],
   "source": [
    "from pandas.tseries.offsets import MonthEnd\n",
    "\n",
    "stock_index = pd.read_excel(\n",
    "    data_dir / 'historyIndex (3).xls',\n",
    "    skiprows=6,\n",
    "    nrows=614,\n",
    "    parse_dates=['Date'],\n",
    "    index_col='Date',\n",
    "    thousands=','\n",
    ").rename(columns={\n",
    "    'WORLD Standard (Large+Mid Cap)': 'MSCI_WORLD_USD',\n",
    "    'EM (EMERGING MARKETS) Standard (Large+Mid Cap)': 'MSCI_EM_USD'\n",
    "})\n",
    "\n",
    "stock_index.index = stock_index.index + MonthEnd(0)"
   ],
   "metadata": {
    "collapsed": false,
    "pycharm": {
     "name": "#%%\n"
    }
   }
  },
  {
   "cell_type": "code",
   "execution_count": null,
   "outputs": [],
   "source": [
    "px.line(stock_index, y='MSCI_WORLD_USD')"
   ],
   "metadata": {
    "collapsed": false,
    "pycharm": {
     "name": "#%%\n"
    }
   }
  },
  {
   "cell_type": "code",
   "execution_count": null,
   "outputs": [],
   "source": [
    "msci_em_monthly_return_rates = stock_index['MSCI_EM_USD'] \\\n",
    "    .rolling(window=2) \\\n",
    "    .apply(lambda x: x[1] / x[0] - 1) \\\n",
    "    .dropna()\n",
    "\n",
    "msci_em_monthly_return_rates_in_PLN = (msci_em_monthly_return_rates + 1) * (exchange_rate_monthly_return_rates + 1) - 1\n",
    "msci_em_monthly_return_rates_in_PLN.name = 'msci_em_PLN'\n",
    "\n",
    "msci_world_monthly_return_rates = stock_index['MSCI_WORLD_USD'] \\\n",
    "    .rolling(window=2) \\\n",
    "    .apply(lambda x: x[1] / x[0] - 1) \\\n",
    "    .dropna()\n",
    "\n",
    "msci_world_monthly_return_rates_in_PLN = (msci_world_monthly_return_rates + 1) * (exchange_rate_monthly_return_rates + 1) - 1\n",
    "msci_world_monthly_return_rates_in_PLN.name = 'msci_world_PLN'\n",
    "\n",
    "aaa = msci_world_monthly_return_rates_in_PLN.copy()\n",
    "aaa.update(msci_em_monthly_return_rates_in_PLN)\n",
    "msci_em_monthly_return_rates_in_PLN = aaa\n",
    "msci_em_monthly_return_rates_in_PLN.name = 'msci_em_PLN'"
   ],
   "metadata": {
    "collapsed": false,
    "pycharm": {
     "name": "#%%\n"
    }
   }
  },
  {
   "cell_type": "code",
   "execution_count": null,
   "outputs": [],
   "source": [
    "df = pd.concat(\n",
    "    [\n",
    "        inflation,\n",
    "        gold_monthly_return_rates_in_PLN,\n",
    "        msci_em_monthly_return_rates_in_PLN,\n",
    "        msci_world_monthly_return_rates_in_PLN,\n",
    "        combined\n",
    "    ],\n",
    "    axis='columns'\n",
    ")\n",
    "df = df.fillna(0)\n",
    "df"
   ],
   "metadata": {
    "collapsed": false,
    "pycharm": {
     "name": "#%%\n"
    }
   }
  },
  {
   "cell_type": "code",
   "execution_count": null,
   "outputs": [],
   "source": [
    "def calculate(df: pd.DataFrame,\n",
    "              distribution: List[Tuple[str, str, float]],\n",
    "              initial_investment_value:float,\n",
    "              rebalancing: Optional[str] = 'yearly'):\n",
    "    current = {}\n",
    "    values_in_time = pd.DataFrame(columns=[money_in_good for _, money_in_good, _ in distribution] + ['investment_value'])\n",
    "\n",
    "    for date, row in tqdm(df.iterrows(), total=len(df)):\n",
    "        if len(current) == 0: # start of investments\n",
    "            for return_rate, money_in_good, pct in distribution:\n",
    "                current[money_in_good] = initial_investment_value * pct\n",
    "        elif rebalancing == 'yearly' and date.month == 1: # yearly rebalancing\n",
    "            current_investment_value = sum(current.values())\n",
    "            for return_rate, money_in_good, pct in distribution:\n",
    "                current[money_in_good] += (current_investment_value * pct - current[money_in_good])\n",
    "\n",
    "        for return_rate, money_in_good, pct in distribution:\n",
    "            current[money_in_good] *= (1 + row[return_rate])\n",
    "\n",
    "        current_investment_value = sum(current.values())\n",
    "        values_in_time.loc[date] = current\n",
    "        values_in_time.loc[date, 'investment_value'] = current_investment_value\n",
    "\n",
    "    return values_in_time['investment_value']\n",
    "\n",
    "df = df['1995-01-01':'2020-01-01']\n",
    "\n",
    "df['only_bonds'] = calculate(\n",
    "    df,\n",
    "    [\n",
    "        ('bonds_approximated', 'bonds', 1.0)\n",
    "    ],\n",
    "    100\n",
    ")\n",
    "\n",
    "df['inflation'] = calculate(\n",
    "    df,\n",
    "    [\n",
    "        ('inflation_rate', 'asd', 1.0)\n",
    "    ],\n",
    "    100\n",
    ")\n",
    "\n",
    "df['ccc'] = calculate(\n",
    "    df,\n",
    "    [\n",
    "        ('bonds_approximated', 'bonds', 0.5),\n",
    "        ('gold_PLN', 'ounces', 0.5)\n",
    "    ],\n",
    "    100\n",
    ")\n",
    "\n",
    "df['only_gold'] = calculate(\n",
    "    df,\n",
    "    [\n",
    "        ('gold_PLN', 'ounces', 1.0)\n",
    "    ],\n",
    "    100\n",
    ")\n",
    "\n",
    "df['only_msci_em'] = calculate(\n",
    "    df,\n",
    "    [\n",
    "        ('msci_em_PLN', 'ounces', 1.0)\n",
    "    ],\n",
    "    100\n",
    ")\n",
    "\n",
    "df['only_msci_world'] = calculate(\n",
    "    df,\n",
    "    [\n",
    "        ('msci_world_PLN', 'ounces', 1.0)\n",
    "    ],\n",
    "    100,\n",
    "    rebalancing='yearly'\n",
    ")\n",
    "\n",
    "df['c'] = calculate(\n",
    "    df,\n",
    "    [\n",
    "        ('msci_world_PLN', '1', 0.15),\n",
    "        ('msci_em_PLN', '2', 0.2),\n",
    "        ('gold_PLN', '3', 0.15),\n",
    "        ('bonds_approximated', '4', 0.5),\n",
    "    ],\n",
    "    100,\n",
    "    rebalancing='yearly'\n",
    ")"
   ],
   "metadata": {
    "collapsed": false,
    "pycharm": {
     "name": "#%%\n"
    }
   }
  },
  {
   "cell_type": "code",
   "execution_count": null,
   "outputs": [],
   "source": [
    "px.line(df,  y=[\n",
    "    'inflation', 'only_bonds', 'ccc', 'only_gold', 'only_msci_em', 'only_msci_world', 'c'])"
   ],
   "metadata": {
    "collapsed": false,
    "pycharm": {
     "name": "#%%\n"
    }
   }
  },
  {
   "cell_type": "code",
   "execution_count": null,
   "outputs": [],
   "source": [
    "df['only_msci_world'].pct_change().idxmin()\n",
    "df['only_msci_world'].pct_change(12).min()\n",
    "df['c'].pct_change(12).min()"
   ],
   "metadata": {
    "collapsed": false,
    "pycharm": {
     "name": "#%%\n"
    }
   }
  },
  {
   "cell_type": "markdown",
   "source": [
    "TODO: maksymalne obsunięcie kapitału liczone jako różnica między lokalnym maksimum\n",
    "a lokalnym minimum"
   ],
   "metadata": {
    "collapsed": false,
    "pycharm": {
     "name": "#%% md\n"
    }
   }
  }
 ],
 "metadata": {
  "kernelspec": {
   "display_name": "Python 3",
   "language": "python",
   "name": "python3"
  },
  "language_info": {
   "codemirror_mode": {
    "name": "ipython",
    "version": 2
   },
   "file_extension": ".py",
   "mimetype": "text/x-python",
   "name": "python",
   "nbconvert_exporter": "python",
   "pygments_lexer": "ipython2",
   "version": "2.7.6"
  }
 },
 "nbformat": 4,
 "nbformat_minor": 0
}